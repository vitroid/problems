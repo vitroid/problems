{
 "cells": [
  {
   "cell_type": "markdown",
   "metadata": {},
   "source": [
    "Five programming problems every Software Engineer should be able to solve in less than 1 hour, in Python.\n",
    "\n",
    "# Problem 1\n",
    "\n",
    "Write three functions that compute the sum of the numbers in a given list using a for-loop, a while-loop, and recursion.\n",
    "\n"
   ]
  },
  {
   "cell_type": "code",
   "execution_count": 21,
   "metadata": {},
   "outputs": [
    {
     "name": "stdout",
     "output_type": "stream",
     "text": [
      "23\n",
      "23\n",
      "23\n"
     ]
    }
   ],
   "source": [
    "def sum_for(L):\n",
    "    s = 0\n",
    "    for x in L:\n",
    "        s += x\n",
    "    return s\n",
    "\n",
    "def sum_while(L):\n",
    "    s, i = 0, len(L)\n",
    "    while 0<i:\n",
    "        i-=1\n",
    "        s += L[i]\n",
    "    return s\n",
    "\n",
    "def sum_rec(L):\n",
    "    if len(L) == 0:\n",
    "        return 0\n",
    "    return L[0] + sum_rec(L[1:])\n",
    "\n",
    "L = [3,1,4,1,5,9]\n",
    "print(sum_for(L))\n",
    "print(sum_while(L))\n",
    "print(sum_rec(L))\n"
   ]
  },
  {
   "cell_type": "markdown",
   "metadata": {},
   "source": [
    "# Problem 2\n",
    "\n",
    "Write a function that combines two lists by alternatingly taking elements. For example: given the two lists [a, b, c] and [1, 2, 3], the function should return [a, 1, b, 2, c, 3].\n",
    "\n"
   ]
  },
  {
   "cell_type": "code",
   "execution_count": 19,
   "metadata": {},
   "outputs": [
    {
     "data": {
      "text/plain": [
       "[1, 4, 2, 5, 3, 6]"
      ]
     },
     "execution_count": 19,
     "metadata": {},
     "output_type": "execute_result"
    }
   ],
   "source": [
    "def zipper(L1, L2):\n",
    "    s = []\n",
    "    for x,y in zip(L1, L2):\n",
    "        s += [x,y]\n",
    "    return s\n",
    "\n",
    "L1 = [1,2,3]\n",
    "L2 = [4,5,6]\n",
    "zipper(L1, L2)"
   ]
  },
  {
   "cell_type": "markdown",
   "metadata": {},
   "source": [
    "# Problem 3\n",
    "\n",
    "Write a function that computes the list of the first 100 Fibonacci numbers. By definition, the first two numbers in the Fibonacci sequence are 0 and 1, and each subsequent number is the sum of the previous two. As an example, here are the first 10 Fibonnaci numbers: 0, 1, 1, 2, 3, 5, 8, 13, 21, and 34.\n",
    "\n"
   ]
  },
  {
   "cell_type": "code",
   "execution_count": 8,
   "metadata": {},
   "outputs": [
    {
     "data": {
      "text/plain": [
       "354224848179261915075"
      ]
     },
     "execution_count": 8,
     "metadata": {},
     "output_type": "execute_result"
    }
   ],
   "source": [
    "from functools import lru_cache\n",
    "\n",
    "@lru_cache\n",
    "def fib(n):\n",
    "    if n < 2:\n",
    "        return n\n",
    "    return fib(n-1)+fib(n-2)\n",
    "\n",
    "fib(100)"
   ]
  },
  {
   "cell_type": "markdown",
   "metadata": {},
   "source": [
    "# Problem 4\n",
    "\n",
    "Write a function that given a list of non negative integers, arranges them such that they form the largest possible number. For example, given [50, 2, 1, 9], the largest formed number is 95021.\n",
    "\n",
    "Update: Apparently this problem got a lot of people talking (although not as much as Problem 5 below.) You can click here to read my solution.\n",
    "\n"
   ]
  },
  {
   "cell_type": "code",
   "execution_count": 16,
   "metadata": {},
   "outputs": [
    {
     "data": {
      "text/plain": [
       "95021"
      ]
     },
     "execution_count": 16,
     "metadata": {},
     "output_type": "execute_result"
    }
   ],
   "source": [
    "from itertools import permutations\n",
    "\n",
    "def max_order(L):\n",
    "    max_val = 0\n",
    "    for o in permutations([str(x) for x in L]):\n",
    "        max_val = max(max_val, eval(\"\".join(o)))\n",
    "    return max_val\n",
    "\n",
    "max_order([50, 2, 1, 9])"
   ]
  },
  {
   "cell_type": "markdown",
   "metadata": {},
   "source": [
    "# Problem 5\n",
    "\n",
    "Write a program that outputs all possibilities to put + or - or nothing between the numbers 1, 2, …, 9 (in this order) such that the result is always 100. For example: 1 + 2 + 34 – 5 + 67 – 8 + 9 = 100."
   ]
  },
  {
   "cell_type": "code",
   "execution_count": 22,
   "metadata": {},
   "outputs": [
    {
     "data": {
      "text/plain": [
       "['1+2+3-4+5+6+78+9',\n",
       " '1+2+34-5+67-8+9',\n",
       " '1+23-4+5+6+78-9',\n",
       " '1+23-4+56+7+8+9',\n",
       " '12+3+4+5-6-7+89',\n",
       " '12+3-4+5+67+8+9',\n",
       " '12-3-4+5-6+7+89',\n",
       " '123+4-5+67-89',\n",
       " '123+45-67+8-9',\n",
       " '123-4-5-6-7+8-9',\n",
       " '123-45-67+89']"
      ]
     },
     "execution_count": 22,
     "metadata": {},
     "output_type": "execute_result"
    }
   ],
   "source": [
    "from itertools import product\n",
    "\n",
    "def hundred():\n",
    "    operators, numbers, h = [\"+\", \"-\", \"\"], \"23456789\", []\n",
    "    for oper8r in product(operators, repeat=8):\n",
    "        s = \"1\"\n",
    "        for a,b in zip(oper8r, numbers):\n",
    "            s += a + b\n",
    "        if eval(s) == 100:\n",
    "            h.append(s)\n",
    "    return h\n",
    "\n",
    "hundred()"
   ]
  },
  {
   "cell_type": "code",
   "execution_count": null,
   "metadata": {},
   "outputs": [],
   "source": []
  }
 ],
 "metadata": {
  "kernelspec": {
   "display_name": "Python 3.9.13 64-bit",
   "language": "python",
   "name": "python3"
  },
  "language_info": {
   "codemirror_mode": {
    "name": "ipython",
    "version": 3
   },
   "file_extension": ".py",
   "mimetype": "text/x-python",
   "name": "python",
   "nbconvert_exporter": "python",
   "pygments_lexer": "ipython3",
   "version": "3.9.13"
  },
  "orig_nbformat": 4,
  "vscode": {
   "interpreter": {
    "hash": "b0fa6594d8f4cbf19f97940f81e996739fb7646882a419484c72d19e05852a7e"
   }
  }
 },
 "nbformat": 4,
 "nbformat_minor": 2
}
